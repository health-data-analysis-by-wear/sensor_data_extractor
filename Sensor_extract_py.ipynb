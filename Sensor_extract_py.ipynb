{
 "cells": [
  {
   "cell_type": "code",
   "execution_count": 6,
   "id": "425788dc",
   "metadata": {},
   "outputs": [],
   "source": [
    "import pandas as pd\n",
    "import numpy as np\n",
    "import os\n",
    "from datetime import datetime\n",
    "import time"
   ]
  },
  {
   "cell_type": "code",
   "execution_count": 7,
   "id": "1b336961",
   "metadata": {},
   "outputs": [],
   "source": [
    "sensors = {\n",
    "    \"Accelerometer\" : {\"Callback's created time\":[], \"Timestamp\":[], \"X\":[], \"y\":[], \"Z\":[]},\n",
    "    \"HRM led green\" : {\"Callback's created time\":[], \"Timestamp\":[], \"HRM green light value\":[]},\n",
    "    \"Gravity\" : {\"Callback's created time\":[], \"Timestamp\":[], \"X\":[], \"Y\":[], \"Z\":[]},\n",
    "    \"Gyroscope rotation vector\" : {\"Callback's created time\":[], \"Timestamp\":[], \"Accuracy\":[], \"X\":[], \"Y\":[], \"Z\":[], \"W\":[]},\n",
    "    \"Gyroscope\" : {\"Callback's created time\":[], \"Timestamp\":[], \"X\":[], \"Y\":[], \"Z\":[]},\n",
    "    \"Linear acceleration\" : {\"Callback's created time\":[], \"Timestamp\":[], \"X\":[], \"Y\":[], \"Z\":[]},\n",
    "    \"Light\" : {\"Callback's created time\":[], \"Timestamp\":[], \"Level\":[]},\n",
    "    \"Pressure\" : {\"Callback's created time\":[], \"Timestamp\":[], \"pressure\":[]},\n",
    "    \"HRM\" : {\"Callback's created time\":[], \"Timestamp\":[], \"BPM\":[]},\n",
    "    \"Sleep monitor\" : {\"Callback's created time\":[], \"Timestamp\":[], \"state\":[]},\n",
    "    \"Pedometer\" : {\"Callback's created time\":[], \"Timestamp\":[], \"num of steps\":[], \"num of walking steps\":[], \"num of running steps\":[], \"moving distance\":[], \"calories burned\":[], \"last speed\":[], \"last stepping frequency\":[], \"last pedestrian state\":[]}\n",
    "}\n",
    "\n",
    "f = open(\"hda_sensor_data.txt\", \"r\")\n",
    "folder_name = \"Output\"\n",
    "\n",
    "accelerometer_started_time = \"\"\n",
    "hrm_led_green_started_time = \"\"\n",
    "gravity_started_time = \"\"\n",
    "gyroscope_rotation_vector_started_time = \"\"\n",
    "gyroscope_started_time = \"\"\n",
    "linear_acceleration_started_time = \"\"\n",
    "light_started_time = \"\"\n",
    "pressure_started_time = \"\"\n",
    "hrm_started_time = \"\"\n",
    "sleep_monitor_started_time = \"\"\n",
    "pedometer_started_time = \"\"\n",
    "\n",
    "collected_timestamp = \"\"\n",
    "current_timestamp = \"\""
   ]
  },
  {
   "cell_type": "code",
   "execution_count": 8,
   "id": "b49552f2",
   "metadata": {},
   "outputs": [],
   "source": [
    "if not os.path.exists(folder_name):\n",
    "    os.mkdir(folder_name)"
   ]
  },
  {
   "cell_type": "code",
   "execution_count": 9,
   "id": "a6cb2556",
   "metadata": {},
   "outputs": [
    {
     "name": "stdout",
     "output_type": "stream",
     "text": [
      "1678939101.0 Started time set\n",
      "1678939101.0 Change started time Accelerometer:  3552704346452\n",
      "1678945110.0 Started time change\n",
      "1678945110.0 Change started time Accelerometer:  3558712735154\n",
      "1678945111.0 Started time change\n",
      "1678945111.0 Change started time Accelerometer:  3558713736240\n"
     ]
    }
   ],
   "source": [
    "while True:\n",
    "    line = f.readline()\n",
    "    if not line : break\n",
    "    \n",
    "    line = line.replace(\"(\", \"\").replace(\")\", \"\").replace(\" output value \", \"\").replace(\"\\n\", \"\")\n",
    "    key_values = line.split(\"=\")\n",
    "    values = key_values[1].split(\",\")\n",
    "    \n",
    "    \n",
    "    if(collected_timestamp == \"\"):\n",
    "        collected_timestamp = time.mktime(datetime.strptime(values[0].strip(), \"%Y-%m-%d %H:%M:%S\").timetuple())\n",
    "        print(collected_timestamp, \"Started time set\")\n",
    "    elif(collected_timestamp != time.mktime(datetime.strptime(values[0].strip(), \"%Y-%m-%d %H:%M:%S\").timetuple())):\n",
    "        collected_timestamp = time.mktime(datetime.strptime(values[0].strip(), \"%Y-%m-%d %H:%M:%S\").timetuple())\n",
    "        print(collected_timestamp, \"Started time change\")\n",
    "        accelerometer_started_time = \"\"\n",
    "        hrm_led_green_started_time = \"\"\n",
    "        gravity_started_time = \"\"\n",
    "        gyroscope_rotation_vector_started_time = \"\"\n",
    "        gyroscope_started_time = \"\"\n",
    "        linear_acceleration_started_time = \"\"\n",
    "        light_started_time = \"\"\n",
    "        pressure_started_time = \"\"\n",
    "        hrm_started_time = \"\"\n",
    "        sleep_monitor_started_time = \"\"\n",
    "        pedometer_started_time = \"\"\n",
    "        \n",
    "    \n",
    "    temp_started_time = \"\"\n",
    "    if(key_values[0] == \"Accelerometer\"):\n",
    "        if(accelerometer_started_time == \"\"):\n",
    "            accelerometer_started_time = values[1]\n",
    "        temp_started_time = accelerometer_started_time\n",
    "            \n",
    "    elif(key_values[0] == \"HRM led green\"):\n",
    "        if(hrm_led_green_started_time == \"\"):\n",
    "            hrm_led_green_started_time = values[1]\n",
    "        temp_started_time = hrm_led_green_started_time\n",
    "        \n",
    "    elif(key_values[0] == \"Gravity\"):\n",
    "        if(gravity_started_time == \"\"):\n",
    "            gravity_started_time = values[1]\n",
    "        temp_started_time = gravity_started_time\n",
    "        \n",
    "    elif(key_values[0] == \"Gyroscope rotation vector\"):\n",
    "        if(gyroscope_rotation_vector_started_time == \"\"):\n",
    "            gyroscope_rotation_vector_started_time = values[1]\n",
    "        temp_started_time = gyroscope_rotation_vector_started_time\n",
    "        \n",
    "    elif(key_values[0] == \"Gyroscope\"):\n",
    "        if(gyroscope_started_time == \"\"):\n",
    "            gyroscope_started_time = values[1]\n",
    "        temp_started_time = gyroscope_started_time\n",
    "        \n",
    "    elif(key_values[0] == \"Linear acceleration\"):\n",
    "        if(linear_acceleration_started_time == \"\"):\n",
    "            linear_acceleration_started_time = values[1]\n",
    "        temp_started_time = linear_acceleration_started_time\n",
    "        \n",
    "    elif(key_values[0] == \"Light\"):\n",
    "        if(light_started_time == \"\"):\n",
    "            light_started_time = values[1]\n",
    "        temp_started_time = light_started_time\n",
    "        \n",
    "    elif(key_values[0] == \"Pressure\"):\n",
    "        if(pressure_started_time == \"\"):\n",
    "            pressure_started_time = values[1]\n",
    "        temp_started_time = pressure_started_time\n",
    "        \n",
    "    elif(key_values[0] == \"HRM\"):\n",
    "        if(hrm_started_time == \"\"):\n",
    "            hrm_started_time = values[1]\n",
    "        temp_started_time = hrm_started_time\n",
    "        \n",
    "    elif(key_values[0] == \"Sleep monitor\"):\n",
    "        if(sleep_monitor_started_time == \"\"):\n",
    "            sleep_monitor_started_time = values[1]\n",
    "        temp_started_time = sleep_monitor_started_time\n",
    "        \n",
    "    elif(key_values[0] == \"Pedometer\"):\n",
    "        if(pedometer_started_time == \"\"):\n",
    "            pedometer_started_time = values[1]\n",
    "        temp_started_time = pedometer_started_time\n",
    "    \n",
    "    \n",
    "    \n",
    "    temp_started_time = round(int(temp_started_time) / (10**6))\n",
    "    current_timestamp = collected_timestamp\n",
    "    current_timestamp += round(int(values[1]) / (10**6)) - int(temp_started_time)\n",
    "    \n",
    "    values[1] = \" \"+ str(datetime.fromtimestamp(current_timestamp).strftime(\"%Y-%m-%d %H:%M:%S\"))\n",
    "    \n",
    "    outputs = sensors[key_values[0]]\n",
    "    index = 0\n",
    "    for k in outputs.keys():\n",
    "        outputs[k].append(values[index])\n",
    "        index += 1\n",
    "f.close()"
   ]
  },
  {
   "cell_type": "code",
   "execution_count": 10,
   "id": "401de247",
   "metadata": {},
   "outputs": [],
   "source": [
    "for key in sensors.keys():\n",
    "    df = pd.DataFrame(sensors[key])\n",
    "    \n",
    "    file_name = folder_name + \"/\" + key + \"_output_value.csv\"\n",
    "    df.to_csv(file_name, encoding=\"utf-8\", index=False)"
   ]
  },
  {
   "cell_type": "code",
   "execution_count": null,
   "id": "79aff972",
   "metadata": {},
   "outputs": [],
   "source": []
  },
  {
   "cell_type": "code",
   "execution_count": null,
   "id": "d0cdd7a6",
   "metadata": {},
   "outputs": [],
   "source": []
  },
  {
   "cell_type": "code",
   "execution_count": 5,
   "id": "cf084daf",
   "metadata": {},
   "outputs": [
    {
     "data": {
      "text/plain": [
       "1678858428"
      ]
     },
     "execution_count": 5,
     "metadata": {},
     "output_type": "execute_result"
    }
   ],
   "source": [
    "from datetime import datetime\n",
    "import time\n",
    "\n",
    "s = \"2023-3-15 14:33:48\"\n",
    "timestamp = time.mktime(datetime.strptime(s, \"%Y-%m-%d %H:%M:%S\").timetuple())\n",
    "int(timestamp)"
   ]
  },
  {
   "cell_type": "code",
   "execution_count": 20,
   "id": "aed3976e",
   "metadata": {},
   "outputs": [
    {
     "data": {
      "text/plain": [
       "'2023-03-15 14:33:48'"
      ]
     },
     "execution_count": 20,
     "metadata": {},
     "output_type": "execute_result"
    }
   ],
   "source": [
    "str(datetime.fromtimestamp(timestamp).strftime(\"%Y-%m-%d %H:%M:%S\"))"
   ]
  },
  {
   "cell_type": "code",
   "execution_count": null,
   "id": "5dfb4876",
   "metadata": {},
   "outputs": [],
   "source": []
  }
 ],
 "metadata": {
  "kernelspec": {
   "display_name": "Python 3 (ipykernel)",
   "language": "python",
   "name": "python3"
  },
  "language_info": {
   "codemirror_mode": {
    "name": "ipython",
    "version": 3
   },
   "file_extension": ".py",
   "mimetype": "text/x-python",
   "name": "python",
   "nbconvert_exporter": "python",
   "pygments_lexer": "ipython3",
   "version": "3.9.13"
  }
 },
 "nbformat": 4,
 "nbformat_minor": 5
}
